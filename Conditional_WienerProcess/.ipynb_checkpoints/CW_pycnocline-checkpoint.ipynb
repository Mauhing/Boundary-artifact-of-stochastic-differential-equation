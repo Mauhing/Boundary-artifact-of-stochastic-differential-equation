{
 "cells": [
  {
   "cell_type": "markdown",
   "metadata": {},
   "source": [
    "\n"
   ]
  },
  {
   "cell_type": "markdown",
   "metadata": {},
   "source": [
    "# Boundary reflection by conditional probability.\n",
    "\n",
    "In the file, we are not longer using simple reflection algorithm. Instead, we save the particle's postion Z_n, and then one time increment of SDE scheme on these particles, then we get Z_{n+1}. If Z_{n+1} is outside the boundary, We throw away the Z_{n+1} and compute it one more time until it is inside the boundary. Idea is to ulltilise central limit theorem to achieve conditional probability in wiener process. \n",
    "\n",
    "* The best way to direction change normal distribution to conditional normal distribution. But it takes time to code. En easy way to verify the idea is, by central limit theorem, if I have enoungh particles, we will achieve conditional normal distribution when we reject impossible event such z<0, z>H. "
   ]
  },
  {
   "cell_type": "code",
   "execution_count": 14,
   "metadata": {
    "init_cell": true
   },
   "outputs": [],
   "source": [
    "import numpy as np\n",
    "import datetime\n",
    "import threading\n",
    "import multiprocessing as mp\n",
    "from matplotlib import pyplot as plt\n",
    "from time import time\n",
    "from scipy.stats import norm\n",
    "%matplotlib inline\n",
    "plt.style.use('bmh')"
   ]
  },
  {
   "cell_type": "markdown",
   "metadata": {},
   "source": [
    "## Diffusivity profile"
   ]
  },
  {
   "cell_type": "markdown",
   "metadata": {},
   "source": [
    "## Lgrangian schemes"
   ]
  },
  {
   "cell_type": "code",
   "execution_count": 15,
   "metadata": {},
   "outputs": [],
   "source": [
    "\n",
    "import numpy as np\n",
    "import sympy\n",
    "\n",
    "\n",
    "z, w=sympy.symbols('z w')\n",
    "H=1\n",
    "a=1\n",
    "Kbar = 1\n",
    "prefactor = Kbar*2*(1+a)*(1+2*a)/(a**2*H**(1+1/a))\n",
    "\n",
    "sym_dKdz_down   =  sympy.diff(prefactor*z*(H-2*z)**(1/a),  z, 1)\n",
    "sym_d2Kdz2_down   =  sympy.diff(prefactor*z*(H-2*z)**(1/a),  z, 2)\n",
    "sym_d3Kdz3_down   =  sympy.diff(prefactor*z*(H-2*z)**(1/a),  z, 3)\n",
    "\n",
    "sym_dKdz_up     =  sympy.diff(prefactor* (H-z)*(2*z-1)**(1/a), z, 1)\n",
    "sym_d2Kdz2_up   =  sympy.diff(prefactor* (H-z)*(2*z-1)**(1/a), z, 2)\n",
    "sym_d3Kdz3_up   =  sympy.diff(prefactor* (H-z)*(2*z-1)**(1/a), z, 3)\n",
    "\n",
    "dKdz_down   =  sympy.utilities.lambdify(z,          sym_dKdz_down,np)\n",
    "d2Kdz2_down =  sympy.utilities.lambdify(z,          sym_d2Kdz2_down,np)\n",
    "d3Kdz3_down =  sympy.utilities.lambdify(z,          sym_d3Kdz3_down,np)\n",
    "\n",
    "dKdz_up   =  sympy.utilities.lambdify(z,          sym_dKdz_up,np)\n",
    "d2Kdz2_up =  sympy.utilities.lambdify(z,          sym_d2Kdz2_up,np)\n",
    "d3Kdz3_up =  sympy.utilities.lambdify(z,          sym_d3Kdz3_up,np)\n",
    "\n",
    "#%%\n",
    "#Some ultility function\n",
    "# Pycnocline\n",
    "\n",
    "def pycnocline(z):\n",
    "    # See Gräwe et al. (2012)\n",
    "    a = 1\n",
    "    H = 1\n",
    "    Kbar = 1\n",
    "    prefactor = Kbar*2*(1+a)*(1+2*a)/(a**2*H**(1+1/a))\n",
    "    G = prefactor*np.where(z < H/2, z*(H-2*z)**(1/a),\n",
    "                           (H-z)*(2*z-1)**(1/a))\n",
    "    return np.where((0.0 < z) & (z < 1.0), G, 0.0)\n",
    "K=pycnocline\n",
    "\n",
    "def pycnocline_down(z):\n",
    "    a = 1\n",
    "    H = 1\n",
    "    Kbar = 1\n",
    "    prefactor = Kbar*2*(1+a)*(1+2*a)/(a**2*H**(1+1/a))\n",
    "    return prefactor*z*(H-2*z)**(1/a)\n",
    "K_down=pycnocline_down\n",
    "\n",
    "def pycnocline_up(z):\n",
    "    a = 1\n",
    "    H = 1\n",
    "    Kbar = 1\n",
    "    prefactor = Kbar*2*(1+a)*(1+2*a)/(a**2*H**(1+1/a))\n",
    "    return prefactor*(H-z)*(2*z-1)**(1/a)\n",
    "K_up=pycnocline_up\n",
    "\n",
    "def dKdz(z):\n",
    "    return np.where(z < H/2,  dKdz_down(z), dKdz_up(z))\n",
    "\n",
    "def d2Kdz(z):\n",
    "    return np.where(z < H/2, d2Kdz2_down(z),d2Kdz2_up(z))\n",
    "\n",
    "def d3Kdz(z):\n",
    "    return np.where(z < H/2, d3Kdz3_down(z),d3Kdz3_up(z))\n",
    "\n",
    "#%%\n",
    "\n",
    "#######\n",
    "#Euler#\n",
    "#######\n",
    "\n",
    "def step_e(z, H,dt,N_sample,dW=None):\n",
    "    if dW is None:\n",
    "        dW=np.random.normal(0,np.sqrt(dt),N_sample)\n",
    "    \n",
    "    a=dKdz(z)\n",
    "    b=np.sqrt(2*K(z))\n",
    "    \n",
    "    temp=z+a*dt+b*dW\n",
    "\n",
    "    return temp\n",
    "\n",
    "##########\n",
    "#Milstein#\n",
    "##########\n",
    "\n",
    "def step_m(z,H,dt,N_sample,dW=None):\n",
    "    if dW is None:\n",
    "        dW=np.random.normal(0,np.sqrt(dt),N_sample)\n",
    "    \n",
    " \n",
    "    dkdz=dKdz(z)\n",
    "    b=np.sqrt(2*K(z))\n",
    "    \n",
    "    temp= z + (1/2)*dkdz*(dW*dW+dt) + b*dW\n",
    "\n",
    "    return temp\n",
    "\n",
    "\n",
    "########\n",
    "#Visser#\n",
    "########\n",
    "\n",
    "def step_v(z,H,dt,N_sample,dW=None):\n",
    "    if dW is None:\n",
    "        dW=np.random.normal(0,np.sqrt(dt),N_sample)\n",
    "    \n",
    "    \n",
    "    a = dKdz(z)\n",
    "        \n",
    "    b = np.sqrt(2*K(z + 1/2*a*dt))\n",
    "    temp= z + a*dt + b*dW\n",
    "\n",
    "    return temp    \n",
    "\n",
    "\n",
    "##############\n",
    "#Milstein 2nd#\n",
    "##############\n",
    "\n",
    "def step_m2(z,H,dt,N_sample, dW=None):\n",
    "    if dW is None:\n",
    "        dW=np.random.normal(0,np.sqrt(dt),N_sample)\n",
    "\n",
    "    k=pycnocline(z)\n",
    "    dkdz=dKdz(z)\n",
    "    ddkdz=d2Kdz(z)\n",
    "    dddkdz=d3Kdz(z)\n",
    "    sqrt2k=np.sqrt(2*k)\n",
    "    \n",
    "    a = dkdz\n",
    "    da = ddkdz\n",
    "    dda = dddkdz\n",
    "    b = sqrt2k \n",
    "    db = dkdz/b\n",
    "    ddb = ddkdz/b - ((dkdz)**2)/b**3\n",
    "    \n",
    "    ab = da*b+a*db\n",
    "    \n",
    "    temp= z + a*dt+b*dW+1/2*b*db*(dW*dW-dt)+1/2*(ab+1/2*ddb*b**2)*dW*dt+\\\n",
    "            1/2*(a*da+1/2*dda*b**2)*dt**2\n",
    "\n",
    "    return temp\n",
    "\n"
   ]
  },
  {
   "cell_type": "markdown",
   "metadata": {},
   "source": [
    "# The key is here."
   ]
  },
  {
   "cell_type": "code",
   "execution_count": 16,
   "metadata": {},
   "outputs": [],
   "source": [
    "def oneStep(Z, scheme,H, dt):\n",
    "    \n",
    "    z_Origin = Z.copy()\n",
    "    Z = scheme(Z, H, dt, Z.size)\n",
    "    \n",
    "    #The key is here, It act like a conditional probability such you can not have particle outside the boudnary.\n",
    "    maskOutSide = ((H < Z) | (0 > Z))\n",
    "    \n",
    "    if (np.any(maskOutSide)):\n",
    "        loop = True\n",
    "    else:\n",
    "        loop = False\n",
    "    \n",
    "    while (loop):\n",
    "        somes = z_Origin[maskOutSide]\n",
    "        somes = scheme(somes, H, dt, somes.size)\n",
    "        Z[maskOutSide] = somes\n",
    "        temp_mask = ((H < somes) | (0 > somes))\n",
    "        maskOutSide[maskOutSide] = temp_mask\n",
    "        \n",
    "        if (np.any(temp_mask) == False):\n",
    "            loop = False\n",
    "            \n",
    "    return None"
   ]
  },
  {
   "cell_type": "markdown",
   "metadata": {},
   "source": [
    "## Parallel functions"
   ]
  },
  {
   "cell_type": "code",
   "execution_count": 17,
   "metadata": {
    "code_folding": [
     0,
     16,
     86
    ]
   },
   "outputs": [],
   "source": [
    "def parallelWiener(Tmax, dt, H, Testdepth, Np, Nbins,\n",
    "                     queneEu, queneV, queneM, queneM2):\n",
    "    np.random.seed()\n",
    "    Ntime   =int(Tmax/dt)  \n",
    "\n",
    "    hist_E      =np.zeros((Nbins-1,),'i')\n",
    "    hist_V      =np.zeros((Nbins-1,),'i')\n",
    "    hist_M      =np.zeros((Nbins-1,),'i')\n",
    "    hist_M2     =np.zeros((Nbins-1,),'i')\n",
    "\n",
    "    zEul    = np.full((Np,),0.75)\n",
    "    zVis    = np.full((Np,),0.75)\n",
    "    zMil    = np.full((Np,),0.75)\n",
    "    zMil2   = np.full((Np,),0.75)\n",
    "\n",
    "\n",
    "    for i in range(Ntime):\n",
    "\n",
    "        oneStep( zEul,    step_e,         H, dt)\n",
    "        oneStep( zVis,    step_v,         H, dt)\n",
    "        oneStep( zMil,    step_m,         H, dt)\n",
    "        oneStep( zMil2,   step_m2,        H, dt)\n",
    "\n",
    "\n",
    "        #Adding the histogram\n",
    "        ###\n",
    "    hist_E, _ = np.histogram(zEul, bins = np.linspace(0, Testdepth, Nbins))\n",
    "\n",
    "    hist_V, _ = np.histogram(zVis, bins = np.linspace(0, Testdepth, Nbins))\n",
    "\n",
    "    hist_M, _ = np.histogram(zMil, bins = np.linspace(0, Testdepth, Nbins))\n",
    "\n",
    "    hist_M2, _ = np.histogram(zMil2, bins = np.linspace(0, Testdepth, Nbins))\n",
    "\n",
    "\n",
    "        if (i % int(Ntime/100) ==0):\n",
    "            print(\"\\r %6.2f\"% (i*100/Ntime+1),\"%\", end=\"\\r\",flush=True)\n",
    "            \n",
    "    queneEu.put(hist_E)\n",
    "    queneV.put(hist_V)\n",
    "    queneM.put(hist_M)\n",
    "    queneM2.put(hist_M2)\n",
    "    return None\n",
    "        \n",
    "def RunSimulation(NumberOfThread, Tmax, dt, H, Testdepth, Np, Nbins):\n",
    "    print(\"Total number of process: \", NumberOfThread)\n",
    "    SubNp     = np.full((NumberOfThread,), int(Np/NumberOfThread))\n",
    "    SubNp[-1] = SubNp[-1] + (Np%NumberOfThread)                 \n",
    "\n",
    "    Ntime     = int(Tmax/dt)  #Number of time interval\n",
    "    counter=Ntime\n",
    "\n",
    "    if (__name__ == '__main__'):\n",
    "        threads=[]\n",
    "        queneEu=      mp.Queue()\n",
    "        queneV=       mp.Queue()\n",
    "\n",
    "        queneM=       mp.Queue()\n",
    "        queneM2=      mp.Queue()\n",
    "\n",
    "        for i in range(NumberOfThread):\n",
    "            thread = mp.Process(target= parallelWiener, \n",
    "                                args= (Tmax, dt, H, Testdepth, SubNp[i], Nbins,\n",
    "                                       queneEu, queneV, queneM, queneM2))\n",
    "            threads.append(thread)\n",
    "            thread.start()    #starting calculation.\n",
    "\n",
    "        for thread in threads:  \n",
    "            thread.join()     #waiting these processes finish. \n",
    "\n",
    "    hist_E      = np.zeros((Nbins-1,),'i')\n",
    "    hist_V      = np.zeros((Nbins-1,),'i')\n",
    "    hist_M      = np.zeros((Nbins-1,),'i')\n",
    "    hist_M2     = np.zeros((Nbins-1,),'i')\n",
    "\n",
    "    for i in range(NumberOfThread):\n",
    "        hist_E      += queneEu.get()\n",
    "        hist_V      += queneV.get()\n",
    "        hist_M      += queneM.get()\n",
    "        hist_M2     += queneM2.get()\n",
    "\n",
    "    hist_E  = hist_E  / counter\n",
    "    hist_V  = hist_V  / counter\n",
    "    hist_M  = hist_M  / counter\n",
    "    hist_M2 = hist_M2 / counter\n",
    "\n",
    "    hist_E  = hist_E  / np.mean(hist_E)\n",
    "    hist_V  = hist_V  / np.mean(hist_V)\n",
    "    hist_M  = hist_M  / np.mean(hist_M)\n",
    "    hist_M2 = hist_M2 / np.mean(hist_M2)\n",
    "\n",
    "    lists=[]\n",
    "    lists.append(hist_E)\n",
    "    lists.append(hist_V)\n",
    "    lists.append(hist_M)\n",
    "    lists.append(hist_M2)\n",
    "    \n",
    "    return lists"
   ]
  },
  {
   "cell_type": "code",
   "execution_count": 18,
   "metadata": {},
   "outputs": [
    {
     "ename": "NameError",
     "evalue": "name 'dAdz' is not defined",
     "output_type": "error",
     "traceback": [
      "\u001b[0;31m---------------------------------------------------------------------------\u001b[0m",
      "\u001b[0;31mNameError\u001b[0m                                 Traceback (most recent call last)",
      "\u001b[0;32m<ipython-input-18-cacf3ba58ce8>\u001b[0m in \u001b[0;36m<module>\u001b[0;34m\u001b[0m\n\u001b[1;32m      2\u001b[0m \u001b[0;34m\u001b[0m\u001b[0m\n\u001b[1;32m      3\u001b[0m \u001b[0mz\u001b[0m\u001b[0;34m=\u001b[0m\u001b[0mnp\u001b[0m\u001b[0;34m.\u001b[0m\u001b[0mlinspace\u001b[0m\u001b[0;34m(\u001b[0m\u001b[0;36m0\u001b[0m\u001b[0;34m,\u001b[0m \u001b[0;36m10\u001b[0m\u001b[0;34m,\u001b[0m\u001b[0;36m1000\u001b[0m\u001b[0;34m)\u001b[0m\u001b[0;34m\u001b[0m\u001b[0;34m\u001b[0m\u001b[0m\n\u001b[0;32m----> 4\u001b[0;31m \u001b[0mprofile\u001b[0m\u001b[0;34m=\u001b[0m\u001b[0mdAdz\u001b[0m\u001b[0;34m(\u001b[0m\u001b[0mz\u001b[0m\u001b[0;34m)\u001b[0m\u001b[0;34m\u001b[0m\u001b[0;34m\u001b[0m\u001b[0m\n\u001b[0m\u001b[1;32m      5\u001b[0m \u001b[0mMaxdt\u001b[0m\u001b[0;34m=\u001b[0m\u001b[0;34m(\u001b[0m\u001b[0;36m1\u001b[0m\u001b[0;34m/\u001b[0m\u001b[0mnp\u001b[0m\u001b[0;34m.\u001b[0m\u001b[0mmax\u001b[0m\u001b[0;34m(\u001b[0m\u001b[0mnp\u001b[0m\u001b[0;34m.\u001b[0m\u001b[0mabs\u001b[0m\u001b[0;34m(\u001b[0m\u001b[0mprofile\u001b[0m\u001b[0;34m)\u001b[0m\u001b[0;34m)\u001b[0m\u001b[0;34m)\u001b[0m\u001b[0;34m\u001b[0m\u001b[0;34m\u001b[0m\u001b[0m\n\u001b[1;32m      6\u001b[0m \u001b[0mprint\u001b[0m\u001b[0;34m(\u001b[0m\u001b[0mMaxdt\u001b[0m\u001b[0;34m)\u001b[0m\u001b[0;34m\u001b[0m\u001b[0;34m\u001b[0m\u001b[0m\n",
      "\u001b[0;31mNameError\u001b[0m: name 'dAdz' is not defined"
     ]
    }
   ],
   "source": [
    "# Criterion checking\n",
    "\n",
    "z=np.linspace(0, 10,1000)\n",
    "profile=dAdz(z)\n",
    "Maxdt=(1/np.max(np.abs(profile)))\n",
    "print(Maxdt)"
   ]
  },
  {
   "cell_type": "markdown",
   "metadata": {},
   "source": [
    "## Conditional probability method by rejection of Wiener process. "
   ]
  },
  {
   "cell_type": "code",
   "execution_count": 12,
   "metadata": {
    "scrolled": true
   },
   "outputs": [
    {
     "name": "stdout",
     "output_type": "stream",
     "text": [
      "Total number of process:  4\n",
      "Time elapsed:  61.54504632949829\n"
     ]
    }
   ],
   "source": [
    "Np        = 40000\n",
    "Nbins     = 500\n",
    "Tmax      = 1          #Maximum time\n",
    "dt        = 1e-4             #Delta time\n",
    "H         = 1\n",
    "Testdepth = 1\n",
    "NumberOfThread = 4\n",
    "\n",
    "startTime=time()\n",
    "lists = RunSimulation(NumberOfThread, Tmax, dt, H, Testdepth, Np, Nbins)\n",
    "endTime=time()\n",
    "print(\"Time elapsed: \", endTime-startTime)\n",
    "\n",
    "hist_E      = lists[0]\n",
    "hist_V      = lists[1]\n",
    "hist_M      = lists[2]\n",
    "hist_M2     = lists[3]"
   ]
  },
  {
   "cell_type": "code",
   "execution_count": 13,
   "metadata": {
    "scrolled": false
   },
   "outputs": [
    {
     "data": {
      "image/png": "[encoded data removed]",
      "text/plain": [
       "<Figure size 841.68x595.44 with 4 Axes>"
      ]
     },
     "metadata": {
      "needs_background": "light"
     },
     "output_type": "display_data"
    }
   ],
   "source": [
    "bins = np.linspace(0, Testdepth, Nbins)\n",
    "midpoints = bins[:-1] + (bins[1]-bins[0]) / 2\n",
    "\n",
    "fig, ax = plt.subplots(ncols = 4, figsize = (11.69,8.27), sharey = True, sharex = True)\n",
    "#fig, ax = plt.subplots(ncols = 4, figsize = (11.69,8.27))\n",
    "ax[0].plot(hist_E, midpoints, linewidth=1.5, label= \"variable\")\n",
    "ax[0].set_xlabel('Concetration')\n",
    "ax[0].set_ylabel('Depth /m')\n",
    "ax[0].set_title('Euler-Maruyama')\n",
    "ax[0].invert_yaxis()\n",
    "ax[0].legend()\n",
    "\n",
    "ax[1].plot(hist_V, midpoints, linewidth=1.5, label= \"variable\")\n",
    "ax[1].set_xlabel('Concetration')\n",
    "ax[1].set_title('Visser')\n",
    "ax[1].legend()\n",
    "\n",
    "\n",
    "ax[2].plot(hist_M, midpoints, linewidth=1.5, label= \"variable\")\n",
    "ax[2].set_xlabel('Concetration')\n",
    "ax[2].set_title('Milstein 1 st')\n",
    "ax[2].legend()\n",
    "\n",
    "ax[3].plot(hist_M2, midpoints, linewidth=1.5, label= \"variable\")\n",
    "ax[3].set_xlabel('Concetration')\n",
    "ax[3].set_title('Milstein 2 nd')\n",
    "ax[3].set_xlim(0.8, 1.2)\n",
    "ax[3].legend()\n",
    "\n",
    "plt.tight_layout()\n",
    "#plt.savefig(\"To_Tor1.png\")"
   ]
  },
  {
   "cell_type": "code",
   "execution_count": 59,
   "metadata": {},
   "outputs": [
    {
     "data": {
      "text/plain": [
       "Text(0.5, 1.0, 'Initial histogram')"
      ]
     },
     "execution_count": 59,
     "metadata": {},
     "output_type": "execute_result"
    },
    {
     "data": {
      "image/png": "[encoded data removed]",
      "text/plain": [
       "<Figure size 216x595.44 with 1 Axes>"
      ]
     },
     "metadata": {
      "needs_background": "light"
     },
     "output_type": "display_data"
    }
   ],
   "source": [
    "Test    =np.random.uniform(0,H,400000)\n",
    "hist, mindpoint = np.histogram(Test, bins = np.linspace(0, 1, 50))\n",
    "hist = hist / np.mean(hist)\n",
    "mindpoint = mindpoint[0:-1] + (mindpoint[1]-mindpoint[0])/2\n",
    "plt.figure(figsize = (3,8.27))\n",
    "plt.xlim(0.8, 1.2)\n",
    "plt.gca().invert_yaxis()\n",
    "plt.plot(hist, mindpoint)\n",
    "plt.title(\"Initial histogram\")\n",
    "#plt.savefig(\"To_Tor2.png\")"
   ]
  },
  {
   "cell_type": "code",
   "execution_count": 11,
   "metadata": {},
   "outputs": [],
   "source": [
    "np.save(\"histE\", hist_E)\n",
    "np.save(\"histV\", hist_V)\n",
    "np.save(\"histM\", hist_M)\n",
    "np.save(\"histM2\", hist_M2)\n",
    "np.save(\"histEcon\", hist_EConst)\n",
    "np.save(\"histVcon\", hist_VConst)\n",
    "np.save(\"histMcon\", hist_MConst)"
   ]
  },
  {
   "cell_type": "code",
   "execution_count": 45,
   "metadata": {},
   "outputs": [
    {
     "name": "stdout",
     "output_type": "stream",
     "text": [
      "[False False  True  True  True  True  True  True  True  True  True  True\n",
      "  True  True  True  True  True  True]\n",
      "[False False False False False False False False False False False False\n",
      " False  True  True  True  True  True  True  True False False False False\n",
      " False False False False False False False False False False False False\n",
      " False False False False False False False False False False False False\n",
      " False False False False False False False False False False False False\n",
      " False False False False False False False False False False False False\n",
      " False False False False False False False False False False False False\n",
      " False False False False False False False  True  True  True  True  True\n",
      "  True  True  True  True]\n"
     ]
    }
   ],
   "source": [
    "z = np.arange(0, 100)\n",
    "\n",
    "mask = ((10<z) & (z< 20)) | (z>90) \n",
    "mask1 = mask[mask]\n",
    "mask1[0:2] = False\n",
    "\n",
    "print(mask1)\n",
    "\n",
    "mask[mask] = mask1\n",
    "print(mask)"
   ]
  }
 ],
 "metadata": {
  "celltoolbar": "Initialization Cell",
  "kernelspec": {
   "display_name": "Python 3",
   "language": "python",
   "name": "python3"
  },
  "language_info": {
   "codemirror_mode": {
    "name": "ipython",
    "version": 3
   },
   "file_extension": ".py",
   "mimetype": "text/x-python",
   "name": "python",
   "nbconvert_exporter": "python",
   "pygments_lexer": "ipython3",
   "version": "3.6.8"
  },
  "varInspector": {
   "cols": {
    "lenName": 16,
    "lenType": 16,
    "lenVar": 40
   },
   "kernels_config": {
    "python": {
     "delete_cmd_postfix": "",
     "delete_cmd_prefix": "del ",
     "library": "var_list.py",
     "varRefreshCmd": "print(var_dic_list())"
    },
    "r": {
     "delete_cmd_postfix": ") ",
     "delete_cmd_prefix": "rm(",
     "library": "var_list.r",
     "varRefreshCmd": "cat(var_dic_list()) "
    }
   },
   "oldHeight": 515,
   "position": {
    "height": "537px",
    "left": "1199px",
    "right": "20px",
    "top": "138px",
    "width": "576px"
   },
   "types_to_exclude": [
    "module",
    "function",
    "builtin_function_or_method",
    "instance",
    "_Feature"
   ],
   "varInspector_section_display": "block",
   "window_display": false
  }
 },
 "nbformat": 4,
 "nbformat_minor": 2
}
