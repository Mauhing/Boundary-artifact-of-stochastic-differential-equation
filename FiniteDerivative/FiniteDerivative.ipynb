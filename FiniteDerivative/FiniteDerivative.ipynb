{
 "cells": [
  {
   "cell_type": "markdown",
   "metadata": {},
   "source": [
    "# Test numerical derivative method"
   ]
  },
  {
   "cell_type": "markdown",
   "metadata": {},
   "source": [
    "## Defining function"
   ]
  },
  {
   "cell_type": "code",
   "execution_count": 1,
   "metadata": {
    "code_folding": [
     0
    ]
   },
   "outputs": [],
   "source": [
    "# Liberary\n",
    "import numpy as np\n",
    "from scipy.interpolate import CubicSpline\n",
    "import datetime\n",
    "import threading\n",
    "import multiprocessing as mp\n",
    "from matplotlib import pyplot as plt\n",
    "from time import time\n",
    "from scipy.stats import norm\n",
    "%matplotlib inline\n",
    "plt.style.use('bmh')"
   ]
  },
  {
   "cell_type": "code",
   "execution_count": 2,
   "metadata": {
    "code_folding": [
     0
    ]
   },
   "outputs": [],
   "source": [
    "#\n",
    "import sympy\n",
    "z = sympy.symbols('z')\n",
    "K0 = 1e-6\n",
    "K1 = 6e-3# m / s\n",
    "Aalpha = 0.5\n",
    "w=0\n",
    "\n",
    "sym_Difty =  K0 + K1 * z * sympy.exp(-Aalpha * z)\n",
    "sym_dDdz = sympy.diff(sym_Difty, z, 1)\n",
    "\n",
    "Difty  =  sympy.utilities.lambdify(z, sym_Difty,np)\n",
    "dDdz   =  sympy.utilities.lambdify(z,          sym_dDdz,np)\n",
    "del z\n",
    "\n",
    "def K(z):\n",
    "    return np.where(z<0, Difty(-z), Difty(z))\n",
    "\n",
    "def dKdz(z):\n",
    "    return np.where(z<0, -dDdz(-z), dDdz(z))"
   ]
  },
  {
   "cell_type": "code",
   "execution_count": 3,
   "metadata": {
    "code_folding": []
   },
   "outputs": [],
   "source": [
    "# SDE schemes\n",
    "# Euler-Maruyama\n",
    "\n",
    "def step_e(z, H, dt, N_sample):\n",
    "\n",
    "    dW = np.random.normal(0, np.sqrt(dt), N_sample)\n",
    "\n",
    "    a = dKdz(z)\n",
    "    b = np.sqrt(2 * K(z))\n",
    "\n",
    "    temp = z + a * dt + b * dW\n",
    "\n",
    "    return temp\n",
    "\n",
    "def step_e_finiteDiff(z, H, dt, N_sample):\n",
    "\n",
    "    dW = np.random.normal(0, np.sqrt(dt), N_sample)\n",
    "    \n",
    "    dz = 1.2e-3\n",
    "    \n",
    "    a = (K(z+dz)-K(z-dz))/(2*dz)\n",
    "    b = np.sqrt(2 * K(z))\n",
    "\n",
    "    temp = z + a * dt + b * dW\n",
    "\n",
    "    return temp"
   ]
  },
  {
   "cell_type": "code",
   "execution_count": 4,
   "metadata": {
    "code_folding": [
     2,
     17,
     63
    ]
   },
   "outputs": [],
   "source": [
    "# Parallel functions\n",
    "\n",
    "def oneStep2(Z ,scheme, H, dt):\n",
    "    \n",
    "    Z_Origin = Z.copy()\n",
    "    Z = scheme(Z, H, dt, Z.size)\n",
    "    \n",
    "    maskCross = ((H < Z) | (0 > Z)) \n",
    "    Crossing = Z_Origin[maskCross]\n",
    "    \n",
    "    Z = np.where(Z < 0, -Z, Z)\n",
    "    Z = np.where(Z > H, 2*H - Z, Z)\n",
    "    \n",
    "    Landing = Z[maskCross]\n",
    "    \n",
    "    return Z, Crossing, Landing\n",
    "\n",
    "def parallel2(Tmax, dt, H, Testdepth, Np, Nbins, quene, queneCross, queneLand,\n",
    "             scheme):\n",
    "\n",
    "    np.random.seed()\n",
    "    Ntime = int(Tmax / dt)\n",
    "\n",
    "    hist_ = np.zeros((Nbins - 1, ), 'uint64')\n",
    "    hist_Cross = np.zeros((Nbins - 1, ), 'uint64')\n",
    "    hist_Land = np.zeros((Nbins - 1, ), 'uint64')\n",
    "\n",
    "    z = np.linspace(0, H, int(Np))\n",
    "    #z = np.random.uniform(0, H, int(Np))\n",
    "\n",
    "    temp0, _ = np.histogram(z, bins=np.linspace(0, Testdepth, Nbins))\n",
    "    hist_ = hist_ + temp0\n",
    "    \n",
    "    for i in range(Ntime):\n",
    "\n",
    "        z, Cross, Land = oneStep2(z, scheme, H, dt)\n",
    "\n",
    "        #Adding the histogram\n",
    "        ###\n",
    "        temp0, _ = np.histogram(z, bins=np.linspace(0, Testdepth, Nbins))\n",
    "        hist_ = hist_ + temp0\n",
    "\n",
    "        temp2, _ = np.histogram(Cross, bins=np.linspace(0, Testdepth, Nbins))\n",
    "        hist_Cross = hist_Cross + temp2\n",
    "\n",
    "        temp3, _ = np.histogram(Land, bins=np.linspace(0, Testdepth, Nbins))\n",
    "        hist_Land = hist_Land + temp3\n",
    "        \n",
    "        try:\n",
    "            if (i % int(Ntime / 100) == 0):\n",
    "                print(\"\\r %6.2f\" % (i * 100 / Ntime + 1),\n",
    "                      \"%\",\n",
    "                      end=\"\\r\",\n",
    "                      flush=True)\n",
    "        except ZeroDivisionError as err:\n",
    "            None\n",
    "            \n",
    "    quene.put(hist_)\n",
    "    queneCross.put(hist_Cross)\n",
    "    queneLand.put(hist_Land)\n",
    "\n",
    "    return None\n",
    "\n",
    "def RunSimulation2(NumberOfThread, Tmax, dt, H, Testdepth, Np, Nbins, scheme):\n",
    "    print(\"Total number of process: \", NumberOfThread)\n",
    "    SubNp = np.full((NumberOfThread, ), int(Np / NumberOfThread))\n",
    "    SubNp[-1] = SubNp[-1] + (Np % NumberOfThread)\n",
    "    \n",
    "    Ntime = int(Tmax / dt)  #Number of time interval\n",
    "\n",
    "    if (__name__ == '__main__'):\n",
    "\n",
    "        threads = []\n",
    "        quene = mp.Queue()\n",
    "        queneCross = mp.Queue()\n",
    "        queneLand = mp.Queue()\n",
    "\n",
    "        for i in range(NumberOfThread):\n",
    "            thread = mp.Process(target=parallel2,\n",
    "                                args=(Tmax, dt, H, Testdepth, SubNp[i], Nbins,\n",
    "                                      quene, queneCross, queneLand, scheme))\n",
    "\n",
    "            threads.append(thread)\n",
    "            thread.start()  #starting calculation.\n",
    "\n",
    "        for thread in threads:\n",
    "            thread.join()  #waiting these processes finish.\n",
    "\n",
    "    hist_ = np.zeros((Nbins - 1, ), 'float64')\n",
    "    hist_Cross = np.zeros((Nbins - 1, ), 'float64')\n",
    "    hist_Land = np.zeros((Nbins - 1, ), 'float64')\n",
    "\n",
    "    for i in range(NumberOfThread):\n",
    "        hist_ += quene.get()\n",
    "        hist_Cross += queneCross.get()\n",
    "        hist_Land += queneLand.get()\n",
    "        \n",
    "    bins = np.linspace(0, Testdepth, Nbins)\n",
    "    dz = bins[1] - bins[0]\n",
    "    hist_ = (hist_*H) / (Np * dz * (Ntime+1))\n",
    "\n",
    "    lists = []\n",
    "    lists.append(hist_)\n",
    "\n",
    "    lists_2 = []\n",
    "    lists_2.append(hist_Cross)\n",
    "\n",
    "    lists_3 = []\n",
    "    lists_3.append(hist_Land)\n",
    "\n",
    "    return hist_, hist_Cross, hist_Land"
   ]
  },
  {
   "cell_type": "code",
   "execution_count": 5,
   "metadata": {
    "code_folding": [
     2,
     11,
     46
    ]
   },
   "outputs": [],
   "source": [
    "# Parallel functions\n",
    "\n",
    "def oneStep(Z, scheme, H, dt):\n",
    "\n",
    "    Z = scheme(Z, H, dt, Z.size)\n",
    "\n",
    "    Z = np.where(Z < 0, -Z, Z)\n",
    "    Z = np.where(Z > H, 2 * H - Z, Z)\n",
    "\n",
    "    return Z\n",
    "\n",
    "def parallel(Tmax, dt, H, Testdepth, Np, Nbins, quene, scheme):\n",
    "\n",
    "    np.random.seed()\n",
    "    Ntime = int(Tmax / dt)\n",
    "\n",
    "    hist_ = np.zeros((Nbins - 1, ), 'uint64')\n",
    "\n",
    "    z = np.linspace(0, H, int(Np))\n",
    "    #z = np.random.uniform(0, H, int(Np))\n",
    "\n",
    "    temp0, _ = np.histogram(z, bins=np.linspace(0, Testdepth, Nbins))\n",
    "    hist_ = hist_ + temp0\n",
    "\n",
    "    for i in range(Ntime):\n",
    "\n",
    "        z = oneStep(z, scheme, H, dt)\n",
    "\n",
    "        #Adding the histogram\n",
    "        ###\n",
    "        temp0, _ = np.histogram(z, bins=np.linspace(0, Testdepth, Nbins))\n",
    "        hist_ = hist_ + temp0\n",
    "\n",
    "        try:\n",
    "            if (i % int(Ntime / 100) == 0):\n",
    "                print(\"\\r %6.2f\" % (i * 100 / Ntime + 1),\n",
    "                      \"%\",\n",
    "                      end=\"\\r\",\n",
    "                      flush=True)\n",
    "        except ZeroDivisionError as err:\n",
    "            None\n",
    "\n",
    "    quene.put(hist_)\n",
    "\n",
    "    return None\n",
    "\n",
    "def RunSimulation(NumberOfThread, Tmax, dt, H, Testdepth, Np, Nbins, scheme):\n",
    "    print(\"Total number of process: \", NumberOfThread)\n",
    "    SubNp = np.full((NumberOfThread, ), int(Np / NumberOfThread))\n",
    "    SubNp[-1] = SubNp[-1] + (Np % NumberOfThread)\n",
    "\n",
    "    Ntime = int(Tmax / dt)  #Number of time interval\n",
    "\n",
    "    if (__name__ == '__main__'):\n",
    "\n",
    "        threads = []\n",
    "        quene = mp.Queue()\n",
    "\n",
    "        for i in range(NumberOfThread):\n",
    "            thread = mp.Process(target=parallel,\n",
    "                                args=(Tmax, dt, H, Testdepth, SubNp[i], Nbins,\n",
    "                                      quene, scheme))\n",
    "\n",
    "            threads.append(thread)\n",
    "            thread.start()  #starting calculation.\n",
    "\n",
    "        for thread in threads:\n",
    "            thread.join()  #waiting these processes finish.\n",
    "\n",
    "    hist_ = np.zeros((Nbins - 1, ), 'float64')\n",
    "\n",
    "    for i in range(NumberOfThread):\n",
    "        hist_ += quene.get()\n",
    "\n",
    "    bins = np.linspace(0, Testdepth, Nbins)\n",
    "    dz = bins[1] - bins[0]\n",
    "    hist_ = (hist_ * H) / (Np * dz * (Ntime + 1))\n",
    "\n",
    "    return hist_"
   ]
  },
  {
   "cell_type": "markdown",
   "metadata": {},
   "source": [
    "## Testing E1"
   ]
  },
  {
   "cell_type": "code",
   "execution_count": 6,
   "metadata": {
    "scrolled": true
   },
   "outputs": [
    {
     "name": "stdout",
     "output_type": "stream",
     "text": [
      "Total number of process:  4\n",
      "Total number of process:  4\n",
      " 100.00 %\r"
     ]
    }
   ],
   "source": [
    "#\n",
    "\n",
    "Np = 20000\n",
    "Nbins = 1000\n",
    "dt = 0.5\n",
    "Tmax = 24 * 3600\n",
    "H = 2\n",
    "Testdepth = 0.05\n",
    "NumberOfThread = 4\n",
    "\n",
    "\n",
    "EM = RunSimulation(NumberOfThread, Tmax, dt, H,\n",
    "                                            Testdepth, Np, Nbins, step_e)\n",
    "\n",
    "\n",
    "EM_finDif = RunSimulation(NumberOfThread, Tmax, dt, H,\n",
    "                                           Testdepth, Np, Nbins, step_e_finiteDiff)\n",
    "\n",
    "bins = np.linspace(0, Testdepth, Nbins)\n",
    "midpoints = bins[:-1] + (bins[1] - bins[0]) / 2\n"
   ]
  },
  {
   "cell_type": "code",
   "execution_count": 18,
   "metadata": {},
   "outputs": [
    {
     "data": {
      "image/png": "[encoded data removed]",
      "text/plain": [
       "<Figure size 360x360 with 1 Axes>"
      ]
     },
     "metadata": {
      "needs_background": "light"
     },
     "output_type": "display_data"
    }
   ],
   "source": [
    "fig, ax = plt.subplots(ncols=1, figsize=(5, 5), sharey=True)\n",
    "\n",
    "ax.plot(EM, midpoints, linewidth=1.5, label= \"Analytical of dK/dz\")\n",
    "ax.plot(EM_finDif, midpoints, linewidth=1.5, label= \"Numerical  of dK/dz\")\n",
    "ax.set_xlabel('Concetration')\n",
    "ax.set_ylabel('Depth /m')\n",
    "ax.set_title('Numerical derivative method')\n",
    "ax.set_xlim(0.7, 1.3)\n",
    "ax.set_ylim(-0.01, 0.05)\n",
    "ax.legend()\n",
    "ax.invert_yaxis()\n",
    "plt.tight_layout()"
   ]
  },
  {
   "cell_type": "code",
   "execution_count": 24,
   "metadata": {},
   "outputs": [
    {
     "data": {
      "text/plain": [
       "<matplotlib.legend.Legend at 0x7f67557c8048>"
      ]
     },
     "execution_count": 24,
     "metadata": {},
     "output_type": "execute_result"
    },
    {
     "data": {
      "image/png": "[encoded data removed]",
      "text/plain": [
       "<Figure size 360x360 with 1 Axes>"
      ]
     },
     "metadata": {
      "needs_background": "light"
     },
     "output_type": "display_data"
    }
   ],
   "source": [
    "z = np.linspace(-0.01, 0.05, 100)\n",
    "\n",
    "plt.figure(figsize=(5, 5))\n",
    "plt.plot(K(z), z, label =\"K(z)\")\n",
    "plt.plot(dKdz(z), z, label =\"Numerical dK/dz\")\n",
    "plt.ylabel(\"z\")\n",
    "plt.ylim(-0.01, 0.05)\n",
    "plt.gca().invert_yaxis()\n",
    "plt.title(\"K(z) and Numerical dK/dz, using dz=0.0012\")\n",
    "plt.legend()"
   ]
  },
  {
   "cell_type": "code",
   "execution_count": null,
   "metadata": {},
   "outputs": [],
   "source": []
  }
 ],
 "metadata": {
  "kernelspec": {
   "display_name": "Python 3",
   "language": "python",
   "name": "python3"
  },
  "language_info": {
   "codemirror_mode": {
    "name": "ipython",
    "version": 3
   },
   "file_extension": ".py",
   "mimetype": "text/x-python",
   "name": "python",
   "nbconvert_exporter": "python",
   "pygments_lexer": "ipython3",
   "version": "3.7.3"
  },
  "notify_time": "5",
  "varInspector": {
   "cols": {
    "lenName": 16,
    "lenType": 16,
    "lenVar": 40
   },
   "kernels_config": {
    "python": {
     "delete_cmd_postfix": "",
     "delete_cmd_prefix": "del ",
     "library": "var_list.py",
     "varRefreshCmd": "print(var_dic_list())"
    },
    "r": {
     "delete_cmd_postfix": ") ",
     "delete_cmd_prefix": "rm(",
     "library": "var_list.r",
     "varRefreshCmd": "cat(var_dic_list()) "
    }
   },
   "oldHeight": 787,
   "position": {
    "height": "809px",
    "left": "8px",
    "right": "20px",
    "top": "9px",
    "width": "350px"
   },
   "types_to_exclude": [
    "module",
    "function",
    "builtin_function_or_method",
    "instance",
    "_Feature"
   ],
   "varInspector_section_display": "block",
   "window_display": false
  }
 },
 "nbformat": 4,
 "nbformat_minor": 2
}
