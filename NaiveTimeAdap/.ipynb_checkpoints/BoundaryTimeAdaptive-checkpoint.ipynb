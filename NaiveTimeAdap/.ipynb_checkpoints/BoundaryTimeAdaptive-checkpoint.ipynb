{
 "cells": [
  {
   "cell_type": "markdown",
   "metadata": {},
   "source": [
    "# Naive time adaptive method"
   ]
  },
  {
   "cell_type": "code",
   "execution_count": 33,
   "metadata": {
    "init_cell": true
   },
   "outputs": [],
   "source": [
    "# importing library\n",
    "import numpy as np\n",
    "import datetime\n",
    "import threading\n",
    "import multiprocessing as mp\n",
    "from matplotlib import pyplot as plt\n",
    "from time import time\n",
    "from scipy.stats import norm\n",
    "%matplotlib inline\n",
    "plt.style.use('bmh')"
   ]
  },
  {
   "cell_type": "markdown",
   "metadata": {},
   "source": [
    "### Defineing diffusivity profile"
   ]
  },
  {
   "cell_type": "code",
   "execution_count": 42,
   "metadata": {
    "init_cell": true
   },
   "outputs": [],
   "source": [
    "import sympy\n",
    "#sympy.init_printing()\n",
    "\n",
    "z = sympy.symbols('z')\n",
    "\n",
    "K0 = 1e-6# m * * 2 / s\n",
    "K1 = 6e-3# m / s\n",
    "Aalpha = 0.5\n",
    "c=20\n",
    "w=0\n",
    "\n",
    "sym_Diffu =  K0 + K1 * z * sympy.exp(-Aalpha * z)\n",
    "sym_dKdz = sympy.diff(sym_Diffu, z, 1)\n",
    "sym_Beta = sympy.sqrt(2 * sym_Diffu)\n",
    "sym_dBdz = sympy.diff(sym_Beta, z, 1)\n",
    "sym_ddBdzz = sympy.diff(sym_Beta, z, 2)\n",
    "sym_Alpha = w + sym_dKdz\n",
    "sym_dAdz = sympy.diff(sym_Alpha, z, 1)\n",
    "sym_ddAdzz = sympy.diff(sym_Alpha, z, 2)\n",
    "sym_dABdz = sympy.diff(sym_Alpha * sym_Beta, z, 1)\n",
    "\n",
    "Diffu  =  sympy.utilities.lambdify(z,          sym_Diffu,np)\n",
    "dKdz   =  sympy.utilities.lambdify(z,          sym_dKdz,np)\n",
    "Beta   =  sympy.utilities.lambdify(z,          sym_Beta,np)\n",
    "dBdz   =  sympy.utilities.lambdify(z,          sym_dBdz,np)\n",
    "ddBdzz=  sympy.utilities.lambdify(z,          sym_ddBdzz,np)\n",
    "Alpha =  sympy.utilities.lambdify(z,      sym_Alpha,np)\n",
    "dAdz  =  sympy.utilities.lambdify(z,      sym_dAdz,np)\n",
    "ddAdzz=  sympy.utilities.lambdify(z,      sym_ddAdzz,np)\n",
    "dABdz =  sympy.utilities.lambdify(z, sym_Alpha*sym_Beta,np)\n"
   ]
  },
  {
   "cell_type": "markdown",
   "metadata": {},
   "source": []
  },
  {
   "cell_type": "code",
   "execution_count": 43,
   "metadata": {
    "code_folding": [
     3,
     19,
     34,
     51,
     61
    ],
    "init_cell": true
   },
   "outputs": [],
   "source": [
    "#######\n",
    "#Euler#\n",
    "#######\n",
    "def step_e(z,H,dt,N_sample):\n",
    "    \n",
    "    dW=np.random.normal(0,np.sqrt(dt),N_sample)\n",
    "    \n",
    "    a=dKdz(z)\n",
    "    b=np.sqrt(2*Diffu(z))\n",
    "    \n",
    "    temp=z+a*dt+b*dW\n",
    "    temp=np.where(temp<0, -temp ,temp)\n",
    "    temp=np.where(temp>H, 2*H-temp,temp)\n",
    "    return temp\n",
    "\n",
    "def step_e_const(z,H,dt,N_sample):\n",
    "    \n",
    "    K0=3e-3\n",
    "    dW=np.random.normal(0,np.sqrt(dt),N_sample)\n",
    "    temp= z +np.sqrt(2*K0)*dW\n",
    "    temp=np.where(temp<0, -temp ,temp)\n",
    "    temp=np.where(temp>H, 2*H-temp,temp)\n",
    "    return temp\n",
    "########\n",
    "#Visser#\n",
    "########\n",
    "def step_v(z,H,dt,N_sample):\n",
    "    \n",
    "    #dW=np.random.uniform(-1,1,N_sample)\n",
    "    #r=1/3\n",
    "    dW=np.random.normal(0,np.sqrt(dt),N_sample)\n",
    "    r=dt\n",
    "    \n",
    "    a=dKdz(z)\n",
    "    G=Diffu(z+a*dt/2)\n",
    "    \n",
    "    temp= z + a*dt + np.sqrt(2/r*dt*G)*dW\n",
    "    temp=np.where(temp<0, -temp ,temp)\n",
    "    temp=np.where(temp>H, 2*H-temp,temp)\n",
    "    return temp\n",
    "\n",
    "def step_v_const(z,H,dt,N_sample):\n",
    "    K0=3e-3\n",
    "    \n",
    "    #dW=np.random.uniform(-1,1,N_sample)\n",
    "    #r=1/3\n",
    "    \n",
    "    dW=np.random.normal(0,np.sqrt(dt),N_sample)\n",
    "    r=dt\n",
    "    \n",
    "    temp= z + np.sqrt(2/r*dt*K0)*dW\n",
    "    temp=np.where(temp<0, -temp ,temp)\n",
    "    temp=np.where(temp>H, 2*H-temp,temp)\n",
    "    return temp\n",
    "\n",
    "##############\n",
    "#Milstein 1nd#\n",
    "##############\n",
    "def step_m(z,H,dt,N_sample):\n",
    "    dW=np.random.normal(0,np.sqrt(dt),N_sample)\n",
    "    temp= z + (1/2)*dKdz(z)*(dW*dW+dt) + Beta(z)*dW\n",
    "    temp=np.where(temp<0, -temp ,temp)\n",
    "    temp=np.where(temp>H, 2*H-temp,temp)\n",
    "    return temp\n",
    "\n",
    "##############\n",
    "#Milstein 2nd#\n",
    "##############\n",
    "def step_m2(z,H,dt,N_sample):\n",
    "    dW=np.random.normal(0,np.sqrt(dt),N_sample)\n",
    "    \n",
    "    k=Diffu(z)\n",
    "    dkdz=dKdz(z)\n",
    "    ddkdz=dAdz(z)\n",
    "    dddkdz=ddAdzz(z)\n",
    "    sqrt2k=np.sqrt(2*k)\n",
    "    \n",
    "    a=dkdz\n",
    "    da=ddkdz\n",
    "    dda=dddkdz\n",
    "    b= sqrt2k \n",
    "    db=dkdz/b\n",
    "    ddb=ddkdz/b - ((dkdz)**2)/b**3\n",
    "    ab=da*b+a*db\n",
    "    \n",
    "    temp= z + a*dt+b*dW+1/2*b*db*(dW*dW-dt)+1/2*(ab+1/2*ddb*b**2)*dW*dt+\\\n",
    "            1/2*(a*da+1/2*dda*b**2)*dt**2\n",
    "    \n",
    "    temp=np.where(temp<0, -temp ,temp)\n",
    "    temp=np.where(temp>H, 2*H-temp,temp)\n",
    "    return temp\n"
   ]
  },
  {
   "cell_type": "markdown",
   "metadata": {},
   "source": [
    "### Defining functions for time adaptive"
   ]
  },
  {
   "cell_type": "code",
   "execution_count": 48,
   "metadata": {
    "code_folding": []
   },
   "outputs": [],
   "source": [
    "def oneStep(upperBound, lowerBound, TimeAdaptive, scheme, n, H, dt):\n",
    "\n",
    "    maskBody = ((upperBound < TimeAdaptive) & (lowerBound > TimeAdaptive))\n",
    "\n",
    "    zBody = TimeAdaptive[maskBody]\n",
    "    zBody = scheme(zBody, H, dt, zBody.size)\n",
    "\n",
    "    zEdge = TimeAdaptive[~maskBody]\n",
    "    for j in range(n):\n",
    "        zEdge = scheme(zEdge, H, dt / n, zEdge.size)\n",
    "\n",
    "    TimeAdaptive[maskBody] = zBody\n",
    "    TimeAdaptive[~maskBody] = zEdge\n",
    "\n",
    "    return TimeAdaptive\n",
    "\n",
    "def parallelBodyEdge(Tmax, dt, H, prosent, n, Testdepth, Np, Nbins, quene,\n",
    "                     scheme):\n",
    "    np.random.seed()\n",
    "    upperBound = H * prosent\n",
    "    lowerBound = H - upperBound\n",
    "    Ntime = int(Tmax / dt)\n",
    "\n",
    "    hist = np.zeros((Nbins - 1, ), 'i')\n",
    "    TimeAdaptive = np.random.uniform(0, H, int(Np))\n",
    "\n",
    "    for i in range(Ntime):\n",
    "\n",
    "        TimeAdaptive = oneStep(upperBound, lowerBound, TimeAdaptive, scheme, n,\n",
    "                               H, dt)\n",
    "        temp0, _ = np.histogram(TimeAdaptive,\n",
    "                                bins=np.linspace(0, Testdepth, Nbins))\n",
    "        hist = hist + temp0\n",
    "\n",
    "        if (i % int(Ntime / 100) == 0):\n",
    "            print(\"\\r %6.2f\" % (i * 100 / Ntime + 1),\n",
    "                  \"%\",\n",
    "                  end=\"\\r\",\n",
    "                  flush=True)\n",
    "\n",
    "    quene.put(hist)\n",
    "    return None\n",
    "\n",
    "def RunSimulation(NumberOfThread, Tmax, dt, H, prosent, n, Testdepth, Np,\n",
    "                  Nbins, scheme):\n",
    "    print(\"Total number of process: \", NumberOfThread)\n",
    "    SubNp = np.full((NumberOfThread, ), int(Np / NumberOfThread))\n",
    "    SubNp[-1] = SubNp[-1] + (Np % NumberOfThread)\n",
    "\n",
    "    Ntime = int(Tmax / dt)  #Number of time interval\n",
    "\n",
    "    if (__name__ == '__main__'):\n",
    "        threads = []\n",
    "        quene = mp.Queue()\n",
    "\n",
    "        for i in range(NumberOfThread):\n",
    "            thread = mp.Process(target=parallelBodyEdge,\n",
    "                                args=(Tmax, dt, H, prosent, rFactor, Testdepth,\n",
    "                                      SubNp[i], Nbins, quene, scheme))\n",
    "            threads.append(thread)\n",
    "            thread.start()  #starting calculation.\n",
    "\n",
    "        for thread in threads:\n",
    "            thread.join()  #waiting these processes finish.\n",
    "\n",
    "    hist = np.zeros((Nbins - 1, ), 'i')\n",
    "\n",
    "    for i in range(NumberOfThread):\n",
    "        hist += quene.get()\n",
    "        \n",
    "    bins = np.linspace(0, Testdepth, Nbins)\n",
    "    dz = bins[1] - bins[0]\n",
    "    hist = (hist * H) / (Np * dz * (Ntime + 1))\n",
    "\n",
    "    return hist"
   ]
  },
  {
   "cell_type": "code",
   "execution_count": 45,
   "metadata": {},
   "outputs": [
    {
     "name": "stdout",
     "output_type": "stream",
     "text": [
      "166.66666666666666\n"
     ]
    }
   ],
   "source": [
    "# Criterion checking\n",
    "\n",
    "z=np.linspace(0, 10,1000)\n",
    "profile=dAdz(z)\n",
    "Maxdt=(1/np.max(np.abs(profile)))\n",
    "print(Maxdt)"
   ]
  },
  {
   "cell_type": "markdown",
   "metadata": {},
   "source": [
    "### E1"
   ]
  },
  {
   "cell_type": "code",
   "execution_count": 49,
   "metadata": {
    "scrolled": true
   },
   "outputs": [
    {
     "name": "stdout",
     "output_type": "stream",
     "text": [
      "Total number of process:  4\n",
      "Total number of process:  4\n",
      "Time elapsed:  36.928582429885864\n"
     ]
    }
   ],
   "source": [
    "Np        = 40000\n",
    "Nbins     = 600\n",
    "Tmax      = 2*3600          #Maximum time\n",
    "dt        = 1             #Delta time\n",
    "H         = 10\n",
    "prosent   = 0.1\n",
    "rFactor   = 2\n",
    "Testdepth = 5\n",
    "NumberOfThread = 4\n",
    "\n",
    "startTime=time()\n",
    "E1 = RunSimulation(NumberOfThread, Tmax, dt, H, prosent, rFactor, Testdepth, Np, Nbins, step_e)\n",
    "E1_Const = RunSimulation(NumberOfThread, Tmax, dt, H, prosent, rFactor, Testdepth, Np, Nbins, step_e_const)\n",
    "endTime=time()\n",
    "print(\"Time elapsed: \", endTime-startTime)\n",
    "\n"
   ]
  },
  {
   "cell_type": "code",
   "execution_count": 50,
   "metadata": {},
   "outputs": [
    {
     "data": {
      "image/png": "[encoded data removed]",
      "text/plain": [
       "<Figure size 841.68x576 with 1 Axes>"
      ]
     },
     "metadata": {
      "needs_background": "light"
     },
     "output_type": "display_data"
    }
   ],
   "source": [
    "bins = np.linspace(0, Testdepth, Nbins)\n",
    "midpoints = bins[:-1] + (bins[1] - bins[0]) / 2\n",
    "\n",
    "fig, ax = plt.subplots(ncols=1, figsize=(11.69, 8), sharey=True)\n",
    "ax.plot(E1, midpoints, linewidth=1.5, label=\"variable\")\n",
    "ax.plot(E1_Const, midpoints, linewidth=1.5, label=\"variable\")\n",
    "ax.set_xlabel('Concetration')\n",
    "ax.set_ylabel('Depth /m')\n",
    "ax.set_title('EM')\n",
    "ax.invert_yaxis()\n",
    "ax.set_xlim(0.7, 1.3)\n",
    "ax.legend()\n",
    "plt.tight_layout()"
   ]
  },
  {
   "cell_type": "code",
   "execution_count": null,
   "metadata": {},
   "outputs": [],
   "source": []
  }
 ],
 "metadata": {
  "celltoolbar": "Initialization Cell",
  "kernelspec": {
   "display_name": "Python 3",
   "language": "python",
   "name": "python3"
  },
  "language_info": {
   "codemirror_mode": {
    "name": "ipython",
    "version": 3
   },
   "file_extension": ".py",
   "mimetype": "text/x-python",
   "name": "python",
   "nbconvert_exporter": "python",
   "pygments_lexer": "ipython3",
   "version": "3.7.3"
  },
  "varInspector": {
   "cols": {
    "lenName": 16,
    "lenType": 16,
    "lenVar": 40
   },
   "kernels_config": {
    "python": {
     "delete_cmd_postfix": "",
     "delete_cmd_prefix": "del ",
     "library": "var_list.py",
     "varRefreshCmd": "print(var_dic_list())"
    },
    "r": {
     "delete_cmd_postfix": ") ",
     "delete_cmd_prefix": "rm(",
     "library": "var_list.r",
     "varRefreshCmd": "cat(var_dic_list()) "
    }
   },
   "oldHeight": 515,
   "position": {
    "height": "537px",
    "left": "1199px",
    "right": "20px",
    "top": "138px",
    "width": "576px"
   },
   "types_to_exclude": [
    "module",
    "function",
    "builtin_function_or_method",
    "instance",
    "_Feature"
   ],
   "varInspector_section_display": "block",
   "window_display": false
  }
 },
 "nbformat": 4,
 "nbformat_minor": 2
}
